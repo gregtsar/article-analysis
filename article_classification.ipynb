{
 "cells": [
  {
   "cell_type": "code",
   "execution_count": 1,
   "metadata": {},
   "outputs": [],
   "source": [
    "import pandas as pd\n",
    "import numpy as np\n",
    "import matplotlib.pyplot as plt\n",
    "import re\n",
    "import nltk\n",
    "import spacy\n",
    "import string\n",
    "# import nltk\n",
    "# nltk.download('stopwords')\n",
    "from nltk.corpus import stopwords\n",
    "from sklearn import model_selection\n",
    "from sklearn.model_selection import train_test_split, KFold, StratifiedKFold\n",
    "from sklearn.feature_extraction.text import CountVectorizer\n",
    "from sklearn.naive_bayes import MultinomialNB"
   ]
  },
  {
   "cell_type": "markdown",
   "metadata": {},
   "source": [
    "Import data set:"
   ]
  },
  {
   "cell_type": "code",
   "execution_count": 2,
   "metadata": {},
   "outputs": [
    {
     "name": "stdout",
     "output_type": "stream",
     "text": [
      "                                                text          class\n",
      "0  \"Μ.Βεργ. Έναν μήνα αφότου η Τουρκία αποχώρησε ...  Ανθρωποκτονία\n",
      "1  \"Μέχρι να αποκαλυφθεί η γυναικοκτονία της Καρο...  Γυναικοκτονία\n",
      "2  \"Γεμάτο υποθέσεις που συγκλόνισαν την κοινή γν...  Γυναικοκτονία\n",
      "3  \"Στον ανακριτή οδηγούνται σήμερα οι δράστες τη...  Ανθρωποκτονία\n",
      "4  \"Συνέβη ξανά. Την περασμένη εβδομάδα ένα σπορ ...  Ανθρωποκτονία\n",
      "                                                text\n",
      "0  \"Μ.Βεργ. Έναν μήνα αφότου η Τουρκία αποχώρησε ...\n",
      "1  \"Μέχρι να αποκαλυφθεί η γυναικοκτονία της Καρο...\n",
      "2  \"Γεμάτο υποθέσεις που συγκλόνισαν την κοινή γν...\n",
      "3  \"Στον ανακριτή οδηγούνται σήμερα οι δράστες τη...\n",
      "4  \"Συνέβη ξανά. Την περασμένη εβδομάδα ένα σπορ ...\n"
     ]
    }
   ],
   "source": [
    "pd.options.mode.chained_assignment = None\n",
    "\n",
    "col_list = ['text', 'class']\n",
    "df_full = pd.read_csv('data/data_set.csv', usecols=col_list)\n",
    "df = df_full[['text']]\n",
    "\n",
    "df[\"text\"] = df[\"text\"].astype(str)\n",
    "print(df_full.head())\n",
    "print(df.head())"
   ]
  },
  {
   "cell_type": "markdown",
   "metadata": {},
   "source": [
    "## Text preprocessing:"
   ]
  },
  {
   "cell_type": "markdown",
   "metadata": {},
   "source": [
    "lower casing:"
   ]
  },
  {
   "cell_type": "code",
   "execution_count": 3,
   "metadata": {},
   "outputs": [
    {
     "name": "stdout",
     "output_type": "stream",
     "text": [
      "                                                text  \\\n",
      "0  \"Μ.Βεργ. Έναν μήνα αφότου η Τουρκία αποχώρησε ...   \n",
      "1  \"Μέχρι να αποκαλυφθεί η γυναικοκτονία της Καρο...   \n",
      "2  \"Γεμάτο υποθέσεις που συγκλόνισαν την κοινή γν...   \n",
      "3  \"Στον ανακριτή οδηγούνται σήμερα οι δράστες τη...   \n",
      "4  \"Συνέβη ξανά. Την περασμένη εβδομάδα ένα σπορ ...   \n",
      "\n",
      "                                          text_lower  \n",
      "0  \"μ.βεργ. έναν μήνα αφότου η τουρκία αποχώρησε ...  \n",
      "1  \"μέχρι να αποκαλυφθεί η γυναικοκτονία της καρο...  \n",
      "2  \"γεμάτο υποθέσεις που συγκλόνισαν την κοινή γν...  \n",
      "3  \"στον ανακριτή οδηγούνται σήμερα οι δράστες τη...  \n",
      "4  \"συνέβη ξανά. την περασμένη εβδομάδα ένα σπορ ...  \n"
     ]
    }
   ],
   "source": [
    "\n",
    "df[\"text_lower\"] = df[\"text\"].str.lower()\n",
    "print(df.head())\n",
    "# drop the new column created in last cell\n",
    "df.drop([\"text_lower\"], axis=1, inplace=True)\n"
   ]
  },
  {
   "cell_type": "markdown",
   "metadata": {},
   "source": [
    "remove punctuation"
   ]
  },
  {
   "cell_type": "code",
   "execution_count": 4,
   "metadata": {},
   "outputs": [
    {
     "name": "stdout",
     "output_type": "stream",
     "text": [
      "                                                text  \\\n",
      "0  \"Μ.Βεργ. Έναν μήνα αφότου η Τουρκία αποχώρησε ...   \n",
      "1  \"Μέχρι να αποκαλυφθεί η γυναικοκτονία της Καρο...   \n",
      "2  \"Γεμάτο υποθέσεις που συγκλόνισαν την κοινή γν...   \n",
      "3  \"Στον ανακριτή οδηγούνται σήμερα οι δράστες τη...   \n",
      "4  \"Συνέβη ξανά. Την περασμένη εβδομάδα ένα σπορ ...   \n",
      "\n",
      "                                       text_wo_punct  \n",
      "0  ΜΒεργ Έναν μήνα αφότου η Τουρκία αποχώρησε από...  \n",
      "1  Μέχρι να αποκαλυφθεί η γυναικοκτονία της Καρολ...  \n",
      "2  Γεμάτο υποθέσεις που συγκλόνισαν την κοινή γνώ...  \n",
      "3  Στον ανακριτή οδηγούνται σήμερα οι δράστες της...  \n",
      "4  Συνέβη ξανά Την περασμένη εβδομάδα ένα σπορ αυ...  \n"
     ]
    }
   ],
   "source": [
    "\n",
    "PUNCT_TO_REMOVE = string.punctuation\n",
    "def remove_punctuation(text):\n",
    "    \"\"\"custom function to remove the punctuation\"\"\"\n",
    "    return text.translate(str.maketrans('', '', PUNCT_TO_REMOVE))\n",
    "\n",
    "df[\"text_wo_punct\"] = df[\"text\"].apply(lambda text: remove_punctuation(text))\n",
    "print(df.head())"
   ]
  },
  {
   "cell_type": "markdown",
   "metadata": {},
   "source": [
    "ML :-"
   ]
  },
  {
   "cell_type": "code",
   "execution_count": null,
   "metadata": {},
   "outputs": [],
   "source": [
    "# class_distribution = (df['class'].value_counts() * 100) / 346\n",
    "# plt.bar(class_distribution.index, class_distribution)\n",
    "# plt.show()\n",
    "\n",
    "# print(class_distribution)\n",
    "\n",
    "# See missing values:\n",
    "# print(df.isna().sum())\n",
    "\n",
    "\n",
    "# Split data set to train and test\n",
    "# training_data, testing_data = train_test_split(df, test_size=0.2, random_state=25)\n",
    "# print(f\"No. of training examples: {training_data.shape[0]}\")\n",
    "# print(f\"No. of testing examples: {testing_data.shape[0]}\")\n",
    "\n",
    "# stop_words = stopwords.words('greek')\n",
    "\n",
    "\n",
    "# TODO: split train data set test validation set: Idecide whether this will happen on the train data set)\n",
    "\n",
    "# X=training_data['text']\n",
    "# y=training_data['class']\n",
    "\n",
    "# X_train, X_test, y_train, y_test = model_selection.train_test_split(X, y, random_state=1)\n",
    "# kf = KFold(n_splits=2)\n",
    "# kf.get_n_splits(X_train)\n",
    "# for train_index, test_index in kf.split(X):\n",
    "#     print(\"TRAIN:\", train_index, \"TEST:\", test_index)\n",
    "#     X_train, X_test = X[train_index], X[test_index]\n",
    "#     y_train, y_test = y[train_index], y[test_index]\n"
   ]
  }
 ],
 "metadata": {
  "kernelspec": {
   "display_name": "Python 3 (ipykernel)",
   "language": "python",
   "name": "python3"
  },
  "language_info": {
   "codemirror_mode": {
    "name": "ipython",
    "version": 3
   },
   "file_extension": ".py",
   "mimetype": "text/x-python",
   "name": "python",
   "nbconvert_exporter": "python",
   "pygments_lexer": "ipython3",
   "version": "3.9.9"
  }
 },
 "nbformat": 4,
 "nbformat_minor": 2
}
