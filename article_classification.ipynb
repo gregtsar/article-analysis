{
 "cells": [
  {
   "cell_type": "code",
   "execution_count": 1,
   "metadata": {},
   "outputs": [],
   "source": [
    "from collections import defaultdict\n",
    "import seaborn as sns\n",
    "from sklearn.linear_model import SGDClassifier\n",
    "from sklearn.pipeline import Pipeline\n",
    "from sklearn.svm import LinearSVC\n",
    "from sklearn import svm\n",
    "from sklearn.naive_bayes import MultinomialNB\n",
    "from sklearn.feature_extraction.text import CountVectorizer, TfidfTransformer, TfidfVectorizer\n",
    "from sklearn.model_selection import KFold\n",
    "from sklearn import metrics\n",
    "from collections import Counter\n",
    "from nltk.corpus import stopwords\n",
    "import spacy\n",
    "from spacy import displacy # see if we need that\n",
    "import nltk\n",
    "import re\n",
    "import pandas as pd\n",
    "import numpy as np\n",
    "import matplotlib.pyplot as plt\n",
    "plt.style.use(style='seaborn')\n",
    "%matplotlib inline\n",
    "# nltk.download('stopwords')\n",
    "sns.set()\n"
   ]
  },
  {
   "cell_type": "markdown",
   "metadata": {},
   "source": [
    "Import data set:\n"
   ]
  },
  {
   "cell_type": "code",
   "execution_count": 2,
   "metadata": {},
   "outputs": [
    {
     "data": {
      "text/html": [
       "<div>\n",
       "<style scoped>\n",
       "    .dataframe tbody tr th:only-of-type {\n",
       "        vertical-align: middle;\n",
       "    }\n",
       "\n",
       "    .dataframe tbody tr th {\n",
       "        vertical-align: top;\n",
       "    }\n",
       "\n",
       "    .dataframe thead th {\n",
       "        text-align: right;\n",
       "    }\n",
       "</style>\n",
       "<table border=\"1\" class=\"dataframe\">\n",
       "  <thead>\n",
       "    <tr style=\"text-align: right;\">\n",
       "      <th></th>\n",
       "      <th>text</th>\n",
       "    </tr>\n",
       "  </thead>\n",
       "  <tbody>\n",
       "    <tr>\n",
       "      <th>0</th>\n",
       "      <td>\"Ξεκίνησε το πρωί ενώπιον των δικαστών του Μικ...</td>\n",
       "    </tr>\n",
       "    <tr>\n",
       "      <th>1</th>\n",
       "      <td>\"Στο άλλο άκρο έχουν περάσει πλέον οι διαδηλώσ...</td>\n",
       "    </tr>\n",
       "    <tr>\n",
       "      <th>2</th>\n",
       "      <td>\"Δεν λέει κουβέντα ο Γερμανός καταδικασμένος π...</td>\n",
       "    </tr>\n",
       "    <tr>\n",
       "      <th>3</th>\n",
       "      <td>\"2,5 χρόνια μετά από τον θάνατο της Ειρήνης Λα...</td>\n",
       "    </tr>\n",
       "    <tr>\n",
       "      <th>4</th>\n",
       "      <td>\"Μία εβδομάδα μετά την αρχική του εκτίμηση ότι...</td>\n",
       "    </tr>\n",
       "  </tbody>\n",
       "</table>\n",
       "</div>"
      ],
      "text/plain": [
       "                                                text\n",
       "0  \"Ξεκίνησε το πρωί ενώπιον των δικαστών του Μικ...\n",
       "1  \"Στο άλλο άκρο έχουν περάσει πλέον οι διαδηλώσ...\n",
       "2  \"Δεν λέει κουβέντα ο Γερμανός καταδικασμένος π...\n",
       "3  \"2,5 χρόνια μετά από τον θάνατο της Ειρήνης Λα...\n",
       "4  \"Μία εβδομάδα μετά την αρχική του εκτίμηση ότι..."
      ]
     },
     "execution_count": 2,
     "metadata": {},
     "output_type": "execute_result"
    }
   ],
   "source": [
    "pd.options.mode.chained_assignment = None\n",
    "\n",
    "col_list = ['text', 'class']\n",
    "df_full = pd.read_csv('data/data_set.csv', usecols=col_list)\n",
    "df = df_full[['text']]\n",
    "\n",
    "df[\"text\"] = df[\"text\"].astype(str)\n",
    "df_full.head()\n",
    "df.head()\n"
   ]
  },
  {
   "cell_type": "markdown",
   "metadata": {},
   "source": [
    "# Text preprocessing:\n"
   ]
  },
  {
   "cell_type": "markdown",
   "metadata": {},
   "source": [
    "## lower casing:\n"
   ]
  },
  {
   "cell_type": "code",
   "execution_count": 3,
   "metadata": {},
   "outputs": [
    {
     "data": {
      "text/html": [
       "<div>\n",
       "<style scoped>\n",
       "    .dataframe tbody tr th:only-of-type {\n",
       "        vertical-align: middle;\n",
       "    }\n",
       "\n",
       "    .dataframe tbody tr th {\n",
       "        vertical-align: top;\n",
       "    }\n",
       "\n",
       "    .dataframe thead th {\n",
       "        text-align: right;\n",
       "    }\n",
       "</style>\n",
       "<table border=\"1\" class=\"dataframe\">\n",
       "  <thead>\n",
       "    <tr style=\"text-align: right;\">\n",
       "      <th></th>\n",
       "      <th>text</th>\n",
       "      <th>text_lower</th>\n",
       "    </tr>\n",
       "  </thead>\n",
       "  <tbody>\n",
       "    <tr>\n",
       "      <th>0</th>\n",
       "      <td>\"Ξεκίνησε το πρωί ενώπιον των δικαστών του Μικ...</td>\n",
       "      <td>\"ξεκίνησε το πρωί ενώπιον των δικαστών του μικ...</td>\n",
       "    </tr>\n",
       "    <tr>\n",
       "      <th>1</th>\n",
       "      <td>\"Στο άλλο άκρο έχουν περάσει πλέον οι διαδηλώσ...</td>\n",
       "      <td>\"στο άλλο άκρο έχουν περάσει πλέον οι διαδηλώσ...</td>\n",
       "    </tr>\n",
       "    <tr>\n",
       "      <th>2</th>\n",
       "      <td>\"Δεν λέει κουβέντα ο Γερμανός καταδικασμένος π...</td>\n",
       "      <td>\"δεν λέει κουβέντα ο γερμανός καταδικασμένος π...</td>\n",
       "    </tr>\n",
       "    <tr>\n",
       "      <th>3</th>\n",
       "      <td>\"2,5 χρόνια μετά από τον θάνατο της Ειρήνης Λα...</td>\n",
       "      <td>\"2,5 χρόνια μετά από τον θάνατο της ειρήνης λα...</td>\n",
       "    </tr>\n",
       "    <tr>\n",
       "      <th>4</th>\n",
       "      <td>\"Μία εβδομάδα μετά την αρχική του εκτίμηση ότι...</td>\n",
       "      <td>\"μία εβδομάδα μετά την αρχική του εκτίμηση ότι...</td>\n",
       "    </tr>\n",
       "  </tbody>\n",
       "</table>\n",
       "</div>"
      ],
      "text/plain": [
       "                                                text  \\\n",
       "0  \"Ξεκίνησε το πρωί ενώπιον των δικαστών του Μικ...   \n",
       "1  \"Στο άλλο άκρο έχουν περάσει πλέον οι διαδηλώσ...   \n",
       "2  \"Δεν λέει κουβέντα ο Γερμανός καταδικασμένος π...   \n",
       "3  \"2,5 χρόνια μετά από τον θάνατο της Ειρήνης Λα...   \n",
       "4  \"Μία εβδομάδα μετά την αρχική του εκτίμηση ότι...   \n",
       "\n",
       "                                          text_lower  \n",
       "0  \"ξεκίνησε το πρωί ενώπιον των δικαστών του μικ...  \n",
       "1  \"στο άλλο άκρο έχουν περάσει πλέον οι διαδηλώσ...  \n",
       "2  \"δεν λέει κουβέντα ο γερμανός καταδικασμένος π...  \n",
       "3  \"2,5 χρόνια μετά από τον θάνατο της ειρήνης λα...  \n",
       "4  \"μία εβδομάδα μετά την αρχική του εκτίμηση ότι...  "
      ]
     },
     "execution_count": 3,
     "metadata": {},
     "output_type": "execute_result"
    }
   ],
   "source": [
    "\n",
    "df[\"text_lower\"] = df[\"text\"].str.lower()\n",
    "df.head()\n",
    "# drop the new column created in last cell\n",
    "# df.drop([\"text_lower\"], axis=1, inplace=True)\n"
   ]
  },
  {
   "cell_type": "markdown",
   "metadata": {},
   "source": [
    "## remove punctuation\n"
   ]
  },
  {
   "cell_type": "code",
   "execution_count": 4,
   "metadata": {},
   "outputs": [
    {
     "data": {
      "text/html": [
       "<div>\n",
       "<style scoped>\n",
       "    .dataframe tbody tr th:only-of-type {\n",
       "        vertical-align: middle;\n",
       "    }\n",
       "\n",
       "    .dataframe tbody tr th {\n",
       "        vertical-align: top;\n",
       "    }\n",
       "\n",
       "    .dataframe thead th {\n",
       "        text-align: right;\n",
       "    }\n",
       "</style>\n",
       "<table border=\"1\" class=\"dataframe\">\n",
       "  <thead>\n",
       "    <tr style=\"text-align: right;\">\n",
       "      <th></th>\n",
       "      <th>text</th>\n",
       "      <th>text_lower</th>\n",
       "      <th>text_wo_punct</th>\n",
       "    </tr>\n",
       "  </thead>\n",
       "  <tbody>\n",
       "    <tr>\n",
       "      <th>0</th>\n",
       "      <td>\"Ξεκίνησε το πρωί ενώπιον των δικαστών του Μικ...</td>\n",
       "      <td>\"ξεκίνησε το πρωί ενώπιον των δικαστών του μικ...</td>\n",
       "      <td>ξεκίνησε το πρωί ενώπιον των δικαστών του μικτ...</td>\n",
       "    </tr>\n",
       "    <tr>\n",
       "      <th>1</th>\n",
       "      <td>\"Στο άλλο άκρο έχουν περάσει πλέον οι διαδηλώσ...</td>\n",
       "      <td>\"στο άλλο άκρο έχουν περάσει πλέον οι διαδηλώσ...</td>\n",
       "      <td>στο άλλο άκρο έχουν περάσει πλέον οι διαδηλώσε...</td>\n",
       "    </tr>\n",
       "    <tr>\n",
       "      <th>2</th>\n",
       "      <td>\"Δεν λέει κουβέντα ο Γερμανός καταδικασμένος π...</td>\n",
       "      <td>\"δεν λέει κουβέντα ο γερμανός καταδικασμένος π...</td>\n",
       "      <td>δεν λέει κουβέντα ο γερμανός καταδικασμένος πα...</td>\n",
       "    </tr>\n",
       "    <tr>\n",
       "      <th>3</th>\n",
       "      <td>\"2,5 χρόνια μετά από τον θάνατο της Ειρήνης Λα...</td>\n",
       "      <td>\"2,5 χρόνια μετά από τον θάνατο της ειρήνης λα...</td>\n",
       "      <td>25 χρόνια μετά από τον θάνατο της ειρήνης λαγο...</td>\n",
       "    </tr>\n",
       "    <tr>\n",
       "      <th>4</th>\n",
       "      <td>\"Μία εβδομάδα μετά την αρχική του εκτίμηση ότι...</td>\n",
       "      <td>\"μία εβδομάδα μετά την αρχική του εκτίμηση ότι...</td>\n",
       "      <td>μία εβδομάδα μετά την αρχική του εκτίμηση ότι ...</td>\n",
       "    </tr>\n",
       "  </tbody>\n",
       "</table>\n",
       "</div>"
      ],
      "text/plain": [
       "                                                text  \\\n",
       "0  \"Ξεκίνησε το πρωί ενώπιον των δικαστών του Μικ...   \n",
       "1  \"Στο άλλο άκρο έχουν περάσει πλέον οι διαδηλώσ...   \n",
       "2  \"Δεν λέει κουβέντα ο Γερμανός καταδικασμένος π...   \n",
       "3  \"2,5 χρόνια μετά από τον θάνατο της Ειρήνης Λα...   \n",
       "4  \"Μία εβδομάδα μετά την αρχική του εκτίμηση ότι...   \n",
       "\n",
       "                                          text_lower  \\\n",
       "0  \"ξεκίνησε το πρωί ενώπιον των δικαστών του μικ...   \n",
       "1  \"στο άλλο άκρο έχουν περάσει πλέον οι διαδηλώσ...   \n",
       "2  \"δεν λέει κουβέντα ο γερμανός καταδικασμένος π...   \n",
       "3  \"2,5 χρόνια μετά από τον θάνατο της ειρήνης λα...   \n",
       "4  \"μία εβδομάδα μετά την αρχική του εκτίμηση ότι...   \n",
       "\n",
       "                                       text_wo_punct  \n",
       "0  ξεκίνησε το πρωί ενώπιον των δικαστών του μικτ...  \n",
       "1  στο άλλο άκρο έχουν περάσει πλέον οι διαδηλώσε...  \n",
       "2  δεν λέει κουβέντα ο γερμανός καταδικασμένος πα...  \n",
       "3  25 χρόνια μετά από τον θάνατο της ειρήνης λαγο...  \n",
       "4  μία εβδομάδα μετά την αρχική του εκτίμηση ότι ...  "
      ]
     },
     "execution_count": 4,
     "metadata": {},
     "output_type": "execute_result"
    }
   ],
   "source": [
    "punctuation = '«!\"#$%&\\'()*+,-./:;<=>?@[\\\\]^_`{|}~»●·’“”'\n",
    "PUNCT_TO_REMOVE = punctuation\n",
    "\n",
    "\n",
    "def remove_punctuation(text):\n",
    "    \"\"\"custom function to remove the punctuation\"\"\"\n",
    "    return text.translate(str.maketrans('', '', PUNCT_TO_REMOVE))\n",
    "\n",
    "\n",
    "df[\"text_wo_punct\"] = df[\"text_lower\"].apply(\n",
    "    lambda text: remove_punctuation(text))\n",
    "df.head()\n"
   ]
  },
  {
   "cell_type": "markdown",
   "metadata": {},
   "source": [
    "## remove stopwords:\n"
   ]
  },
  {
   "cell_type": "code",
   "execution_count": 5,
   "metadata": {},
   "outputs": [
    {
     "data": {
      "text/html": [
       "<div>\n",
       "<style scoped>\n",
       "    .dataframe tbody tr th:only-of-type {\n",
       "        vertical-align: middle;\n",
       "    }\n",
       "\n",
       "    .dataframe tbody tr th {\n",
       "        vertical-align: top;\n",
       "    }\n",
       "\n",
       "    .dataframe thead th {\n",
       "        text-align: right;\n",
       "    }\n",
       "</style>\n",
       "<table border=\"1\" class=\"dataframe\">\n",
       "  <thead>\n",
       "    <tr style=\"text-align: right;\">\n",
       "      <th></th>\n",
       "      <th>text</th>\n",
       "      <th>text_lower</th>\n",
       "      <th>text_wo_punct</th>\n",
       "      <th>text_wo_stop</th>\n",
       "    </tr>\n",
       "  </thead>\n",
       "  <tbody>\n",
       "    <tr>\n",
       "      <th>0</th>\n",
       "      <td>\"Ξεκίνησε το πρωί ενώπιον των δικαστών του Μικ...</td>\n",
       "      <td>\"ξεκίνησε το πρωί ενώπιον των δικαστών του μικ...</td>\n",
       "      <td>ξεκίνησε το πρωί ενώπιον των δικαστών του μικτ...</td>\n",
       "      <td>ξεκίνησε πρωί ενώπιον δικαστών μικτού ορκωτού ...</td>\n",
       "    </tr>\n",
       "    <tr>\n",
       "      <th>1</th>\n",
       "      <td>\"Στο άλλο άκρο έχουν περάσει πλέον οι διαδηλώσ...</td>\n",
       "      <td>\"στο άλλο άκρο έχουν περάσει πλέον οι διαδηλώσ...</td>\n",
       "      <td>στο άλλο άκρο έχουν περάσει πλέον οι διαδηλώσε...</td>\n",
       "      <td>άλλο άκρο έχουν περάσει πλέον διαδηλώσεις ηπα ...</td>\n",
       "    </tr>\n",
       "    <tr>\n",
       "      <th>2</th>\n",
       "      <td>\"Δεν λέει κουβέντα ο Γερμανός καταδικασμένος π...</td>\n",
       "      <td>\"δεν λέει κουβέντα ο γερμανός καταδικασμένος π...</td>\n",
       "      <td>δεν λέει κουβέντα ο γερμανός καταδικασμένος πα...</td>\n",
       "      <td>λέει κουβέντα γερμανός καταδικασμένος παιδόφιλ...</td>\n",
       "    </tr>\n",
       "    <tr>\n",
       "      <th>3</th>\n",
       "      <td>\"2,5 χρόνια μετά από τον θάνατο της Ειρήνης Λα...</td>\n",
       "      <td>\"2,5 χρόνια μετά από τον θάνατο της ειρήνης λα...</td>\n",
       "      <td>25 χρόνια μετά από τον θάνατο της ειρήνης λαγο...</td>\n",
       "      <td>25 χρόνια θάνατο ειρήνης λαγούδη μητέρας τριών...</td>\n",
       "    </tr>\n",
       "    <tr>\n",
       "      <th>4</th>\n",
       "      <td>\"Μία εβδομάδα μετά την αρχική του εκτίμηση ότι...</td>\n",
       "      <td>\"μία εβδομάδα μετά την αρχική του εκτίμηση ότι...</td>\n",
       "      <td>μία εβδομάδα μετά την αρχική του εκτίμηση ότι ...</td>\n",
       "      <td>μία εβδομάδα αρχική εκτίμηση ότι μαντλίν μακκα...</td>\n",
       "    </tr>\n",
       "  </tbody>\n",
       "</table>\n",
       "</div>"
      ],
      "text/plain": [
       "                                                text  \\\n",
       "0  \"Ξεκίνησε το πρωί ενώπιον των δικαστών του Μικ...   \n",
       "1  \"Στο άλλο άκρο έχουν περάσει πλέον οι διαδηλώσ...   \n",
       "2  \"Δεν λέει κουβέντα ο Γερμανός καταδικασμένος π...   \n",
       "3  \"2,5 χρόνια μετά από τον θάνατο της Ειρήνης Λα...   \n",
       "4  \"Μία εβδομάδα μετά την αρχική του εκτίμηση ότι...   \n",
       "\n",
       "                                          text_lower  \\\n",
       "0  \"ξεκίνησε το πρωί ενώπιον των δικαστών του μικ...   \n",
       "1  \"στο άλλο άκρο έχουν περάσει πλέον οι διαδηλώσ...   \n",
       "2  \"δεν λέει κουβέντα ο γερμανός καταδικασμένος π...   \n",
       "3  \"2,5 χρόνια μετά από τον θάνατο της ειρήνης λα...   \n",
       "4  \"μία εβδομάδα μετά την αρχική του εκτίμηση ότι...   \n",
       "\n",
       "                                       text_wo_punct  \\\n",
       "0  ξεκίνησε το πρωί ενώπιον των δικαστών του μικτ...   \n",
       "1  στο άλλο άκρο έχουν περάσει πλέον οι διαδηλώσε...   \n",
       "2  δεν λέει κουβέντα ο γερμανός καταδικασμένος πα...   \n",
       "3  25 χρόνια μετά από τον θάνατο της ειρήνης λαγο...   \n",
       "4  μία εβδομάδα μετά την αρχική του εκτίμηση ότι ...   \n",
       "\n",
       "                                        text_wo_stop  \n",
       "0  ξεκίνησε πρωί ενώπιον δικαστών μικτού ορκωτού ...  \n",
       "1  άλλο άκρο έχουν περάσει πλέον διαδηλώσεις ηπα ...  \n",
       "2  λέει κουβέντα γερμανός καταδικασμένος παιδόφιλ...  \n",
       "3  25 χρόνια θάνατο ειρήνης λαγούδη μητέρας τριών...  \n",
       "4  μία εβδομάδα αρχική εκτίμηση ότι μαντλίν μακκα...  "
      ]
     },
     "execution_count": 5,
     "metadata": {},
     "output_type": "execute_result"
    }
   ],
   "source": [
    "STOPWORDS_GREEK = set(stopwords.words('greek'))\n",
    "\n",
    "\n",
    "def import_additional_greek_stopwords(STOPWORDS_GREEK):\n",
    "    STOPWORDS_GREEK.add('της')\n",
    "    STOPWORDS_GREEK.add('από')\n",
    "    STOPWORDS_GREEK.add('είναι')\n",
    "    STOPWORDS_GREEK.add('έχει')\n",
    "    STOPWORDS_GREEK.add('σας')\n",
    "    STOPWORDS_GREEK.add('τους')\n",
    "    STOPWORDS_GREEK.add('τη')\n",
    "    STOPWORDS_GREEK.add('μας')\n",
    "    STOPWORDS_GREEK.add('στα')\n",
    "    STOPWORDS_GREEK.add('στις')\n",
    "    STOPWORDS_GREEK.add('στους')\n",
    "    STOPWORDS_GREEK.add('μου')\n",
    "    STOPWORDS_GREEK.add('σου')\n",
    "    return STOPWORDS_GREEK\n",
    "\n",
    "\n",
    "STOPWORDS_GREEK = import_additional_greek_stopwords(STOPWORDS_GREEK)\n",
    "\n",
    "\n",
    "def remove_stopwords(text):\n",
    "    \"\"\"custom function to remove the stopwords\"\"\"\n",
    "    return \" \".join([word for word in str(text).split() if word not in STOPWORDS_GREEK])\n",
    "\n",
    "\n",
    "df[\"text_wo_stop\"] = df[\"text_wo_punct\"].apply(\n",
    "    lambda text: remove_stopwords(text))\n",
    "df.head()\n"
   ]
  },
  {
   "cell_type": "markdown",
   "metadata": {},
   "source": [
    "## remove intonation:\n"
   ]
  },
  {
   "cell_type": "code",
   "execution_count": 6,
   "metadata": {},
   "outputs": [
    {
     "data": {
      "text/html": [
       "<div>\n",
       "<style scoped>\n",
       "    .dataframe tbody tr th:only-of-type {\n",
       "        vertical-align: middle;\n",
       "    }\n",
       "\n",
       "    .dataframe tbody tr th {\n",
       "        vertical-align: top;\n",
       "    }\n",
       "\n",
       "    .dataframe thead th {\n",
       "        text-align: right;\n",
       "    }\n",
       "</style>\n",
       "<table border=\"1\" class=\"dataframe\">\n",
       "  <thead>\n",
       "    <tr style=\"text-align: right;\">\n",
       "      <th></th>\n",
       "      <th>text</th>\n",
       "      <th>text_lower</th>\n",
       "      <th>text_wo_punct</th>\n",
       "      <th>text_wo_stop</th>\n",
       "      <th>text_wo_intonation</th>\n",
       "    </tr>\n",
       "  </thead>\n",
       "  <tbody>\n",
       "    <tr>\n",
       "      <th>0</th>\n",
       "      <td>\"Ξεκίνησε το πρωί ενώπιον των δικαστών του Μικ...</td>\n",
       "      <td>\"ξεκίνησε το πρωί ενώπιον των δικαστών του μικ...</td>\n",
       "      <td>ξεκίνησε το πρωί ενώπιον των δικαστών του μικτ...</td>\n",
       "      <td>ξεκίνησε πρωί ενώπιον δικαστών μικτού ορκωτού ...</td>\n",
       "      <td>ξεκινησε πρωι ενωπιον δικαστων μικτου ορκωτου ...</td>\n",
       "    </tr>\n",
       "    <tr>\n",
       "      <th>1</th>\n",
       "      <td>\"Στο άλλο άκρο έχουν περάσει πλέον οι διαδηλώσ...</td>\n",
       "      <td>\"στο άλλο άκρο έχουν περάσει πλέον οι διαδηλώσ...</td>\n",
       "      <td>στο άλλο άκρο έχουν περάσει πλέον οι διαδηλώσε...</td>\n",
       "      <td>άλλο άκρο έχουν περάσει πλέον διαδηλώσεις ηπα ...</td>\n",
       "      <td>αλλο ακρο εχουν περασει πλεον διαδηλωσεις ηπα ...</td>\n",
       "    </tr>\n",
       "    <tr>\n",
       "      <th>2</th>\n",
       "      <td>\"Δεν λέει κουβέντα ο Γερμανός καταδικασμένος π...</td>\n",
       "      <td>\"δεν λέει κουβέντα ο γερμανός καταδικασμένος π...</td>\n",
       "      <td>δεν λέει κουβέντα ο γερμανός καταδικασμένος πα...</td>\n",
       "      <td>λέει κουβέντα γερμανός καταδικασμένος παιδόφιλ...</td>\n",
       "      <td>λεει κουβεντα γερμανος καταδικασμενος παιδοφιλ...</td>\n",
       "    </tr>\n",
       "    <tr>\n",
       "      <th>3</th>\n",
       "      <td>\"2,5 χρόνια μετά από τον θάνατο της Ειρήνης Λα...</td>\n",
       "      <td>\"2,5 χρόνια μετά από τον θάνατο της ειρήνης λα...</td>\n",
       "      <td>25 χρόνια μετά από τον θάνατο της ειρήνης λαγο...</td>\n",
       "      <td>25 χρόνια θάνατο ειρήνης λαγούδη μητέρας τριών...</td>\n",
       "      <td>25 χρονια θανατο ειρηνης λαγουδη μητερας τριων...</td>\n",
       "    </tr>\n",
       "    <tr>\n",
       "      <th>4</th>\n",
       "      <td>\"Μία εβδομάδα μετά την αρχική του εκτίμηση ότι...</td>\n",
       "      <td>\"μία εβδομάδα μετά την αρχική του εκτίμηση ότι...</td>\n",
       "      <td>μία εβδομάδα μετά την αρχική του εκτίμηση ότι ...</td>\n",
       "      <td>μία εβδομάδα αρχική εκτίμηση ότι μαντλίν μακκα...</td>\n",
       "      <td>μια εβδομαδα αρχικη εκτιμηση οτι μαντλιν μακκα...</td>\n",
       "    </tr>\n",
       "  </tbody>\n",
       "</table>\n",
       "</div>"
      ],
      "text/plain": [
       "                                                text  \\\n",
       "0  \"Ξεκίνησε το πρωί ενώπιον των δικαστών του Μικ...   \n",
       "1  \"Στο άλλο άκρο έχουν περάσει πλέον οι διαδηλώσ...   \n",
       "2  \"Δεν λέει κουβέντα ο Γερμανός καταδικασμένος π...   \n",
       "3  \"2,5 χρόνια μετά από τον θάνατο της Ειρήνης Λα...   \n",
       "4  \"Μία εβδομάδα μετά την αρχική του εκτίμηση ότι...   \n",
       "\n",
       "                                          text_lower  \\\n",
       "0  \"ξεκίνησε το πρωί ενώπιον των δικαστών του μικ...   \n",
       "1  \"στο άλλο άκρο έχουν περάσει πλέον οι διαδηλώσ...   \n",
       "2  \"δεν λέει κουβέντα ο γερμανός καταδικασμένος π...   \n",
       "3  \"2,5 χρόνια μετά από τον θάνατο της ειρήνης λα...   \n",
       "4  \"μία εβδομάδα μετά την αρχική του εκτίμηση ότι...   \n",
       "\n",
       "                                       text_wo_punct  \\\n",
       "0  ξεκίνησε το πρωί ενώπιον των δικαστών του μικτ...   \n",
       "1  στο άλλο άκρο έχουν περάσει πλέον οι διαδηλώσε...   \n",
       "2  δεν λέει κουβέντα ο γερμανός καταδικασμένος πα...   \n",
       "3  25 χρόνια μετά από τον θάνατο της ειρήνης λαγο...   \n",
       "4  μία εβδομάδα μετά την αρχική του εκτίμηση ότι ...   \n",
       "\n",
       "                                        text_wo_stop  \\\n",
       "0  ξεκίνησε πρωί ενώπιον δικαστών μικτού ορκωτού ...   \n",
       "1  άλλο άκρο έχουν περάσει πλέον διαδηλώσεις ηπα ...   \n",
       "2  λέει κουβέντα γερμανός καταδικασμένος παιδόφιλ...   \n",
       "3  25 χρόνια θάνατο ειρήνης λαγούδη μητέρας τριών...   \n",
       "4  μία εβδομάδα αρχική εκτίμηση ότι μαντλίν μακκα...   \n",
       "\n",
       "                                  text_wo_intonation  \n",
       "0  ξεκινησε πρωι ενωπιον δικαστων μικτου ορκωτου ...  \n",
       "1  αλλο ακρο εχουν περασει πλεον διαδηλωσεις ηπα ...  \n",
       "2  λεει κουβεντα γερμανος καταδικασμενος παιδοφιλ...  \n",
       "3  25 χρονια θανατο ειρηνης λαγουδη μητερας τριων...  \n",
       "4  μια εβδομαδα αρχικη εκτιμηση οτι μαντλιν μακκα...  "
      ]
     },
     "execution_count": 6,
     "metadata": {},
     "output_type": "execute_result"
    }
   ],
   "source": [
    "def remove_intonation(text):\n",
    "\n",
    "    rep = {\"ά\": \"α\", \"έ\": \"ε\", \"ή\": \"η\", \"ί\": \"ι\", \"ό\": \"ο\", \"ύ\": \"υ\", \"ώ\": \"ω\", \"ϊ\": \"ι\",\n",
    "           \"ἀ\": \"α\", \"ἐ\": \"ε\", \"ἤ\": \"η\", \"ἰ\": \"ι\", \"ἄ\": \"α\", \"ὐ\": \"υ\", \"ὡ\": \"ω\", \"ὦ\": \"ω\",\n",
    "           'ὖ': 'υ', 'ὅ': 'ο', 'ῆ': 'η', 'ῇ': 'η', 'ῦ': 'υ', 'ὁ': 'ο', 'ὑ': 'υ', 'ὲ': 'ε',\n",
    "           'ὺ': 'υ', 'ἂ': 'α', 'ἵ': 'ι', 'ὴ': 'η', 'ὰ': 'α', 'ἅ': 'α', 'ὶ': 'ι', 'ἴ': 'ι',\n",
    "           'ὸ': 'ο', 'ἥ': 'η', 'ἡ': 'η', 'ὕ': 'υ', 'ἔ': 'ε', 'ἳ': 'ι', 'ὗ': 'υ', 'ἃ': 'α',\n",
    "           'ὃ': 'ο', 'ὥ': 'ω', 'ὔ': 'υ', 'ῖ': 'ι', 'ἣ': 'η', 'ἷ': 'ι', 'ἑ': 'ε', 'ᾧ': 'ω',\n",
    "           'ἢ': 'η', 'ΐ': 'ι', }\n",
    "\n",
    "    rep = dict((nltk.re.escape(k), v) for k, v in rep.items())\n",
    "    pattern = nltk.re.compile(\"|\".join(rep.keys()))\n",
    "    text = pattern.sub(lambda m: rep[nltk.re.escape(m.group(0))], text)\n",
    "\n",
    "    return text\n",
    "\n",
    "\n",
    "df[\"text_wo_intonation\"] = df[\"text_wo_stop\"].apply(\n",
    "    lambda text: remove_intonation(text))\n",
    "df.head()\n"
   ]
  },
  {
   "cell_type": "markdown",
   "metadata": {},
   "source": [
    "## remove frequent words:\n"
   ]
  },
  {
   "cell_type": "markdown",
   "metadata": {},
   "source": [
    "### get most frequent words:\n"
   ]
  },
  {
   "cell_type": "code",
   "execution_count": 7,
   "metadata": {},
   "outputs": [
    {
     "data": {
      "text/plain": [
       "[('οτι', 1574),\n",
       " ('ειχε', 912),\n",
       " ('ηταν', 726),\n",
       " ('μια', 705),\n",
       " ('συμφωνα', 552),\n",
       " ('δυο', 544),\n",
       " ('οπως', 526),\n",
       " ('ενω', 515),\n",
       " ('ενα', 497),\n",
       " ('αλλα', 496)]"
      ]
     },
     "execution_count": 7,
     "metadata": {},
     "output_type": "execute_result"
    }
   ],
   "source": [
    "cnt = Counter()\n",
    "for text in df[\"text_wo_intonation\"].values:\n",
    "    for word in text.split():\n",
    "        cnt[word] += 1\n",
    "\n",
    "# show ten more frequent elements:\n",
    "cnt.most_common(10)\n"
   ]
  },
  {
   "cell_type": "markdown",
   "metadata": {},
   "source": [
    "### remove most frequent words:\n"
   ]
  },
  {
   "cell_type": "code",
   "execution_count": 8,
   "metadata": {},
   "outputs": [
    {
     "data": {
      "text/html": [
       "<div>\n",
       "<style scoped>\n",
       "    .dataframe tbody tr th:only-of-type {\n",
       "        vertical-align: middle;\n",
       "    }\n",
       "\n",
       "    .dataframe tbody tr th {\n",
       "        vertical-align: top;\n",
       "    }\n",
       "\n",
       "    .dataframe thead th {\n",
       "        text-align: right;\n",
       "    }\n",
       "</style>\n",
       "<table border=\"1\" class=\"dataframe\">\n",
       "  <thead>\n",
       "    <tr style=\"text-align: right;\">\n",
       "      <th></th>\n",
       "      <th>text</th>\n",
       "      <th>text_lower</th>\n",
       "      <th>text_wo_punct</th>\n",
       "      <th>text_wo_stop</th>\n",
       "      <th>text_wo_intonation</th>\n",
       "      <th>text_wo_freq</th>\n",
       "    </tr>\n",
       "  </thead>\n",
       "  <tbody>\n",
       "    <tr>\n",
       "      <th>0</th>\n",
       "      <td>\"Ξεκίνησε το πρωί ενώπιον των δικαστών του Μικ...</td>\n",
       "      <td>\"ξεκίνησε το πρωί ενώπιον των δικαστών του μικ...</td>\n",
       "      <td>ξεκίνησε το πρωί ενώπιον των δικαστών του μικτ...</td>\n",
       "      <td>ξεκίνησε πρωί ενώπιον δικαστών μικτού ορκωτού ...</td>\n",
       "      <td>ξεκινησε πρωι ενωπιον δικαστων μικτου ορκωτου ...</td>\n",
       "      <td>ξεκινησε πρωι ενωπιον δικαστων μικτου ορκωτου ...</td>\n",
       "    </tr>\n",
       "    <tr>\n",
       "      <th>1</th>\n",
       "      <td>\"Στο άλλο άκρο έχουν περάσει πλέον οι διαδηλώσ...</td>\n",
       "      <td>\"στο άλλο άκρο έχουν περάσει πλέον οι διαδηλώσ...</td>\n",
       "      <td>στο άλλο άκρο έχουν περάσει πλέον οι διαδηλώσε...</td>\n",
       "      <td>άλλο άκρο έχουν περάσει πλέον διαδηλώσεις ηπα ...</td>\n",
       "      <td>αλλο ακρο εχουν περασει πλεον διαδηλωσεις ηπα ...</td>\n",
       "      <td>αλλο ακρο εχουν περασει πλεον διαδηλωσεις ηπα ...</td>\n",
       "    </tr>\n",
       "    <tr>\n",
       "      <th>2</th>\n",
       "      <td>\"Δεν λέει κουβέντα ο Γερμανός καταδικασμένος π...</td>\n",
       "      <td>\"δεν λέει κουβέντα ο γερμανός καταδικασμένος π...</td>\n",
       "      <td>δεν λέει κουβέντα ο γερμανός καταδικασμένος πα...</td>\n",
       "      <td>λέει κουβέντα γερμανός καταδικασμένος παιδόφιλ...</td>\n",
       "      <td>λεει κουβεντα γερμανος καταδικασμενος παιδοφιλ...</td>\n",
       "      <td>λεει κουβεντα γερμανος καταδικασμενος παιδοφιλ...</td>\n",
       "    </tr>\n",
       "    <tr>\n",
       "      <th>3</th>\n",
       "      <td>\"2,5 χρόνια μετά από τον θάνατο της Ειρήνης Λα...</td>\n",
       "      <td>\"2,5 χρόνια μετά από τον θάνατο της ειρήνης λα...</td>\n",
       "      <td>25 χρόνια μετά από τον θάνατο της ειρήνης λαγο...</td>\n",
       "      <td>25 χρόνια θάνατο ειρήνης λαγούδη μητέρας τριών...</td>\n",
       "      <td>25 χρονια θανατο ειρηνης λαγουδη μητερας τριων...</td>\n",
       "      <td>25 χρονια θανατο ειρηνης λαγουδη μητερας τριων...</td>\n",
       "    </tr>\n",
       "    <tr>\n",
       "      <th>4</th>\n",
       "      <td>\"Μία εβδομάδα μετά την αρχική του εκτίμηση ότι...</td>\n",
       "      <td>\"μία εβδομάδα μετά την αρχική του εκτίμηση ότι...</td>\n",
       "      <td>μία εβδομάδα μετά την αρχική του εκτίμηση ότι ...</td>\n",
       "      <td>μία εβδομάδα αρχική εκτίμηση ότι μαντλίν μακκα...</td>\n",
       "      <td>μια εβδομαδα αρχικη εκτιμηση οτι μαντλιν μακκα...</td>\n",
       "      <td>εβδομαδα αρχικη εκτιμηση μαντλιν μακκαν μαλλον...</td>\n",
       "    </tr>\n",
       "  </tbody>\n",
       "</table>\n",
       "</div>"
      ],
      "text/plain": [
       "                                                text  \\\n",
       "0  \"Ξεκίνησε το πρωί ενώπιον των δικαστών του Μικ...   \n",
       "1  \"Στο άλλο άκρο έχουν περάσει πλέον οι διαδηλώσ...   \n",
       "2  \"Δεν λέει κουβέντα ο Γερμανός καταδικασμένος π...   \n",
       "3  \"2,5 χρόνια μετά από τον θάνατο της Ειρήνης Λα...   \n",
       "4  \"Μία εβδομάδα μετά την αρχική του εκτίμηση ότι...   \n",
       "\n",
       "                                          text_lower  \\\n",
       "0  \"ξεκίνησε το πρωί ενώπιον των δικαστών του μικ...   \n",
       "1  \"στο άλλο άκρο έχουν περάσει πλέον οι διαδηλώσ...   \n",
       "2  \"δεν λέει κουβέντα ο γερμανός καταδικασμένος π...   \n",
       "3  \"2,5 χρόνια μετά από τον θάνατο της ειρήνης λα...   \n",
       "4  \"μία εβδομάδα μετά την αρχική του εκτίμηση ότι...   \n",
       "\n",
       "                                       text_wo_punct  \\\n",
       "0  ξεκίνησε το πρωί ενώπιον των δικαστών του μικτ...   \n",
       "1  στο άλλο άκρο έχουν περάσει πλέον οι διαδηλώσε...   \n",
       "2  δεν λέει κουβέντα ο γερμανός καταδικασμένος πα...   \n",
       "3  25 χρόνια μετά από τον θάνατο της ειρήνης λαγο...   \n",
       "4  μία εβδομάδα μετά την αρχική του εκτίμηση ότι ...   \n",
       "\n",
       "                                        text_wo_stop  \\\n",
       "0  ξεκίνησε πρωί ενώπιον δικαστών μικτού ορκωτού ...   \n",
       "1  άλλο άκρο έχουν περάσει πλέον διαδηλώσεις ηπα ...   \n",
       "2  λέει κουβέντα γερμανός καταδικασμένος παιδόφιλ...   \n",
       "3  25 χρόνια θάνατο ειρήνης λαγούδη μητέρας τριών...   \n",
       "4  μία εβδομάδα αρχική εκτίμηση ότι μαντλίν μακκα...   \n",
       "\n",
       "                                  text_wo_intonation  \\\n",
       "0  ξεκινησε πρωι ενωπιον δικαστων μικτου ορκωτου ...   \n",
       "1  αλλο ακρο εχουν περασει πλεον διαδηλωσεις ηπα ...   \n",
       "2  λεει κουβεντα γερμανος καταδικασμενος παιδοφιλ...   \n",
       "3  25 χρονια θανατο ειρηνης λαγουδη μητερας τριων...   \n",
       "4  μια εβδομαδα αρχικη εκτιμηση οτι μαντλιν μακκα...   \n",
       "\n",
       "                                        text_wo_freq  \n",
       "0  ξεκινησε πρωι ενωπιον δικαστων μικτου ορκωτου ...  \n",
       "1  αλλο ακρο εχουν περασει πλεον διαδηλωσεις ηπα ...  \n",
       "2  λεει κουβεντα γερμανος καταδικασμενος παιδοφιλ...  \n",
       "3  25 χρονια θανατο ειρηνης λαγουδη μητερας τριων...  \n",
       "4  εβδομαδα αρχικη εκτιμηση μαντλιν μακκαν μαλλον...  "
      ]
     },
     "execution_count": 8,
     "metadata": {},
     "output_type": "execute_result"
    }
   ],
   "source": [
    "FREQWORDS = set([w for (w, wc) in cnt.most_common(10)])\n",
    "\n",
    "\n",
    "def remove_freqwords(text):\n",
    "    \"\"\"custom function to remove frequent words\"\"\"\n",
    "    return \" \".join([word for word in str(text).split() if word not in FREQWORDS])\n",
    "\n",
    "\n",
    "df[\"text_wo_freq\"] = df[\"text_wo_intonation\"].apply(\n",
    "    lambda text: remove_freqwords(text))\n",
    "df.head()\n"
   ]
  },
  {
   "cell_type": "markdown",
   "metadata": {},
   "source": [
    "## remove most rare words:\n"
   ]
  },
  {
   "cell_type": "code",
   "execution_count": 9,
   "metadata": {},
   "outputs": [
    {
     "data": {
      "text/plain": [
       "[('νικι', 2),\n",
       " ('αναπαυσου', 2),\n",
       " ('ραγιζει', 2),\n",
       " ('αντζελα', 2),\n",
       " ('αξιζες', 2),\n",
       " ('γνωρισεις', 2),\n",
       " ('γλυκος', 2),\n",
       " ('αξιοπιστος', 2),\n",
       " ('σιμι', 2),\n",
       " ('μπαρκερ', 2)]"
      ]
     },
     "execution_count": 9,
     "metadata": {},
     "output_type": "execute_result"
    }
   ],
   "source": [
    "for text in df[\"text_wo_intonation\"].values:\n",
    "    for word in text.split():\n",
    "        cnt[word] += 1\n",
    "\n",
    "# show ten least frequent elements:\n",
    "cnt.most_common()[:-10-1:-1]\n"
   ]
  },
  {
   "cell_type": "code",
   "execution_count": 10,
   "metadata": {},
   "outputs": [
    {
     "data": {
      "text/html": [
       "<div>\n",
       "<style scoped>\n",
       "    .dataframe tbody tr th:only-of-type {\n",
       "        vertical-align: middle;\n",
       "    }\n",
       "\n",
       "    .dataframe tbody tr th {\n",
       "        vertical-align: top;\n",
       "    }\n",
       "\n",
       "    .dataframe thead th {\n",
       "        text-align: right;\n",
       "    }\n",
       "</style>\n",
       "<table border=\"1\" class=\"dataframe\">\n",
       "  <thead>\n",
       "    <tr style=\"text-align: right;\">\n",
       "      <th></th>\n",
       "      <th>text</th>\n",
       "      <th>text_wo_intonation</th>\n",
       "      <th>text_wo_freq</th>\n",
       "      <th>text_wo_rare</th>\n",
       "    </tr>\n",
       "  </thead>\n",
       "  <tbody>\n",
       "    <tr>\n",
       "      <th>0</th>\n",
       "      <td>\"Ξεκίνησε το πρωί ενώπιον των δικαστών του Μικ...</td>\n",
       "      <td>ξεκινησε πρωι ενωπιον δικαστων μικτου ορκωτου ...</td>\n",
       "      <td>ξεκινησε πρωι ενωπιον δικαστων μικτου ορκωτου ...</td>\n",
       "      <td>ξεκινησε πρωι ενωπιον δικαστων μικτου ορκωτου ...</td>\n",
       "    </tr>\n",
       "    <tr>\n",
       "      <th>1</th>\n",
       "      <td>\"Στο άλλο άκρο έχουν περάσει πλέον οι διαδηλώσ...</td>\n",
       "      <td>αλλο ακρο εχουν περασει πλεον διαδηλωσεις ηπα ...</td>\n",
       "      <td>αλλο ακρο εχουν περασει πλεον διαδηλωσεις ηπα ...</td>\n",
       "      <td>αλλο ακρο εχουν περασει πλεον διαδηλωσεις ηπα ...</td>\n",
       "    </tr>\n",
       "    <tr>\n",
       "      <th>2</th>\n",
       "      <td>\"Δεν λέει κουβέντα ο Γερμανός καταδικασμένος π...</td>\n",
       "      <td>λεει κουβεντα γερμανος καταδικασμενος παιδοφιλ...</td>\n",
       "      <td>λεει κουβεντα γερμανος καταδικασμενος παιδοφιλ...</td>\n",
       "      <td>λεει κουβεντα γερμανος καταδικασμενος παιδοφιλ...</td>\n",
       "    </tr>\n",
       "    <tr>\n",
       "      <th>3</th>\n",
       "      <td>\"2,5 χρόνια μετά από τον θάνατο της Ειρήνης Λα...</td>\n",
       "      <td>25 χρονια θανατο ειρηνης λαγουδη μητερας τριων...</td>\n",
       "      <td>25 χρονια θανατο ειρηνης λαγουδη μητερας τριων...</td>\n",
       "      <td>25 χρονια θανατο ειρηνης λαγουδη μητερας τριων...</td>\n",
       "    </tr>\n",
       "    <tr>\n",
       "      <th>4</th>\n",
       "      <td>\"Μία εβδομάδα μετά την αρχική του εκτίμηση ότι...</td>\n",
       "      <td>μια εβδομαδα αρχικη εκτιμηση οτι μαντλιν μακκα...</td>\n",
       "      <td>εβδομαδα αρχικη εκτιμηση μαντλιν μακκαν μαλλον...</td>\n",
       "      <td>εβδομαδα αρχικη εκτιμηση μαντλιν μακκαν μαλλον...</td>\n",
       "    </tr>\n",
       "  </tbody>\n",
       "</table>\n",
       "</div>"
      ],
      "text/plain": [
       "                                                text  \\\n",
       "0  \"Ξεκίνησε το πρωί ενώπιον των δικαστών του Μικ...   \n",
       "1  \"Στο άλλο άκρο έχουν περάσει πλέον οι διαδηλώσ...   \n",
       "2  \"Δεν λέει κουβέντα ο Γερμανός καταδικασμένος π...   \n",
       "3  \"2,5 χρόνια μετά από τον θάνατο της Ειρήνης Λα...   \n",
       "4  \"Μία εβδομάδα μετά την αρχική του εκτίμηση ότι...   \n",
       "\n",
       "                                  text_wo_intonation  \\\n",
       "0  ξεκινησε πρωι ενωπιον δικαστων μικτου ορκωτου ...   \n",
       "1  αλλο ακρο εχουν περασει πλεον διαδηλωσεις ηπα ...   \n",
       "2  λεει κουβεντα γερμανος καταδικασμενος παιδοφιλ...   \n",
       "3  25 χρονια θανατο ειρηνης λαγουδη μητερας τριων...   \n",
       "4  μια εβδομαδα αρχικη εκτιμηση οτι μαντλιν μακκα...   \n",
       "\n",
       "                                        text_wo_freq  \\\n",
       "0  ξεκινησε πρωι ενωπιον δικαστων μικτου ορκωτου ...   \n",
       "1  αλλο ακρο εχουν περασει πλεον διαδηλωσεις ηπα ...   \n",
       "2  λεει κουβεντα γερμανος καταδικασμενος παιδοφιλ...   \n",
       "3  25 χρονια θανατο ειρηνης λαγουδη μητερας τριων...   \n",
       "4  εβδομαδα αρχικη εκτιμηση μαντλιν μακκαν μαλλον...   \n",
       "\n",
       "                                        text_wo_rare  \n",
       "0  ξεκινησε πρωι ενωπιον δικαστων μικτου ορκωτου ...  \n",
       "1  αλλο ακρο εχουν περασει πλεον διαδηλωσεις ηπα ...  \n",
       "2  λεει κουβεντα γερμανος καταδικασμενος παιδοφιλ...  \n",
       "3  25 χρονια θανατο ειρηνης λαγουδη μητερας τριων...  \n",
       "4  εβδομαδα αρχικη εκτιμηση μαντλιν μακκαν μαλλον...  "
      ]
     },
     "execution_count": 10,
     "metadata": {},
     "output_type": "execute_result"
    }
   ],
   "source": [
    "# Drop the two columns which are no longer needed\n",
    "df.drop([\"text_wo_punct\", \"text_wo_stop\", \"text_lower\"], axis=1, inplace=True)\n",
    "\n",
    "n_rare_words = 10\n",
    "RAREWORDS = set([w for (w, wc) in cnt.most_common()[:-n_rare_words-1:-1]])\n",
    "\n",
    "\n",
    "def remove_rarewords(text):\n",
    "    \"\"\"custom function to remove rare words\"\"\"\n",
    "    return \" \".join([word for word in str(text).split() if word not in RAREWORDS])\n",
    "\n",
    "\n",
    "df[\"text_wo_rare\"] = df[\"text_wo_freq\"].apply(\n",
    "    lambda text: remove_rarewords(text))\n",
    "df.head()\n"
   ]
  },
  {
   "cell_type": "markdown",
   "metadata": {},
   "source": [
    "## Lemmatization:\n"
   ]
  },
  {
   "cell_type": "code",
   "execution_count": 11,
   "metadata": {},
   "outputs": [],
   "source": [
    "# # Drop the columns which are no longer needed\n",
    "# df.drop([\"text_wo_intonation\", \"text_wo_freq\"], axis=1, inplace=True)\n",
    "\n",
    "# nlp = spacy.load(\"el_core_news_sm\")\n",
    "# # nlp.remove_pipe(\"tagger\")\n",
    "\n",
    "# def lemmatize_words(text):\n",
    "#     \"\"\"custom function to lemmatize text\"\"\"\n",
    "#     doc = nlp(text)\n",
    "#     # pos_tagged_text = text.pos\n",
    "#     return \" \".join([token.lemma_ for token in doc])\n",
    "\n",
    "\n",
    "# df[\"text_lemmatized\"] = df[\"text_wo_rare\"].apply(\n",
    "#     lambda text: lemmatize_words(text))\n",
    "# df.head()\n"
   ]
  },
  {
   "cell_type": "markdown",
   "metadata": {},
   "source": [
    "## Remove numbers:\n"
   ]
  },
  {
   "cell_type": "code",
   "execution_count": 12,
   "metadata": {},
   "outputs": [
    {
     "data": {
      "text/html": [
       "<div>\n",
       "<style scoped>\n",
       "    .dataframe tbody tr th:only-of-type {\n",
       "        vertical-align: middle;\n",
       "    }\n",
       "\n",
       "    .dataframe tbody tr th {\n",
       "        vertical-align: top;\n",
       "    }\n",
       "\n",
       "    .dataframe thead th {\n",
       "        text-align: right;\n",
       "    }\n",
       "</style>\n",
       "<table border=\"1\" class=\"dataframe\">\n",
       "  <thead>\n",
       "    <tr style=\"text-align: right;\">\n",
       "      <th></th>\n",
       "      <th>text</th>\n",
       "      <th>text_wo_rare</th>\n",
       "      <th>text_wo_numbers</th>\n",
       "    </tr>\n",
       "  </thead>\n",
       "  <tbody>\n",
       "    <tr>\n",
       "      <th>0</th>\n",
       "      <td>\"Ξεκίνησε το πρωί ενώπιον των δικαστών του Μικ...</td>\n",
       "      <td>ξεκινησε πρωι ενωπιον δικαστων μικτου ορκωτου ...</td>\n",
       "      <td>ξεκινησε πρωι ενωπιον δικαστων μικτου ορκωτου ...</td>\n",
       "    </tr>\n",
       "    <tr>\n",
       "      <th>1</th>\n",
       "      <td>\"Στο άλλο άκρο έχουν περάσει πλέον οι διαδηλώσ...</td>\n",
       "      <td>αλλο ακρο εχουν περασει πλεον διαδηλωσεις ηπα ...</td>\n",
       "      <td>αλλο ακρο εχουν περασει πλεον διαδηλωσεις ηπα ...</td>\n",
       "    </tr>\n",
       "    <tr>\n",
       "      <th>2</th>\n",
       "      <td>\"Δεν λέει κουβέντα ο Γερμανός καταδικασμένος π...</td>\n",
       "      <td>λεει κουβεντα γερμανος καταδικασμενος παιδοφιλ...</td>\n",
       "      <td>λεει κουβεντα γερμανος καταδικασμενος παιδοφιλ...</td>\n",
       "    </tr>\n",
       "    <tr>\n",
       "      <th>3</th>\n",
       "      <td>\"2,5 χρόνια μετά από τον θάνατο της Ειρήνης Λα...</td>\n",
       "      <td>25 χρονια θανατο ειρηνης λαγουδη μητερας τριων...</td>\n",
       "      <td>χρονια θανατο ειρηνης λαγουδη μητερας τριων π...</td>\n",
       "    </tr>\n",
       "    <tr>\n",
       "      <th>4</th>\n",
       "      <td>\"Μία εβδομάδα μετά την αρχική του εκτίμηση ότι...</td>\n",
       "      <td>εβδομαδα αρχικη εκτιμηση μαντλιν μακκαν μαλλον...</td>\n",
       "      <td>εβδομαδα αρχικη εκτιμηση μαντλιν μακκαν μαλλον...</td>\n",
       "    </tr>\n",
       "  </tbody>\n",
       "</table>\n",
       "</div>"
      ],
      "text/plain": [
       "                                                text  \\\n",
       "0  \"Ξεκίνησε το πρωί ενώπιον των δικαστών του Μικ...   \n",
       "1  \"Στο άλλο άκρο έχουν περάσει πλέον οι διαδηλώσ...   \n",
       "2  \"Δεν λέει κουβέντα ο Γερμανός καταδικασμένος π...   \n",
       "3  \"2,5 χρόνια μετά από τον θάνατο της Ειρήνης Λα...   \n",
       "4  \"Μία εβδομάδα μετά την αρχική του εκτίμηση ότι...   \n",
       "\n",
       "                                        text_wo_rare  \\\n",
       "0  ξεκινησε πρωι ενωπιον δικαστων μικτου ορκωτου ...   \n",
       "1  αλλο ακρο εχουν περασει πλεον διαδηλωσεις ηπα ...   \n",
       "2  λεει κουβεντα γερμανος καταδικασμενος παιδοφιλ...   \n",
       "3  25 χρονια θανατο ειρηνης λαγουδη μητερας τριων...   \n",
       "4  εβδομαδα αρχικη εκτιμηση μαντλιν μακκαν μαλλον...   \n",
       "\n",
       "                                     text_wo_numbers  \n",
       "0  ξεκινησε πρωι ενωπιον δικαστων μικτου ορκωτου ...  \n",
       "1  αλλο ακρο εχουν περασει πλεον διαδηλωσεις ηπα ...  \n",
       "2  λεει κουβεντα γερμανος καταδικασμενος παιδοφιλ...  \n",
       "3   χρονια θανατο ειρηνης λαγουδη μητερας τριων π...  \n",
       "4  εβδομαδα αρχικη εκτιμηση μαντλιν μακκαν μαλλον...  "
      ]
     },
     "execution_count": 12,
     "metadata": {},
     "output_type": "execute_result"
    }
   ],
   "source": [
    "# Drop the columns which are no longer needed\n",
    "df.drop([\"text_wo_intonation\", \"text_wo_freq\"], axis=1, inplace=True)\n",
    "\n",
    "def drop_numbers(text):\n",
    "    text_wo_numbers = re.sub(r'[0-9]+', '', text)\n",
    "    return text_wo_numbers\n",
    "\n",
    "\n",
    "df[\"text_wo_numbers\"] = df[\"text_wo_rare\"].apply(\n",
    "    lambda text: drop_numbers(text))\n",
    "df.head()\n"
   ]
  },
  {
   "cell_type": "markdown",
   "metadata": {},
   "source": [
    "## Remove single letter words:\n"
   ]
  },
  {
   "cell_type": "code",
   "execution_count": 13,
   "metadata": {},
   "outputs": [
    {
     "data": {
      "text/html": [
       "<div>\n",
       "<style scoped>\n",
       "    .dataframe tbody tr th:only-of-type {\n",
       "        vertical-align: middle;\n",
       "    }\n",
       "\n",
       "    .dataframe tbody tr th {\n",
       "        vertical-align: top;\n",
       "    }\n",
       "\n",
       "    .dataframe thead th {\n",
       "        text-align: right;\n",
       "    }\n",
       "</style>\n",
       "<table border=\"1\" class=\"dataframe\">\n",
       "  <thead>\n",
       "    <tr style=\"text-align: right;\">\n",
       "      <th></th>\n",
       "      <th>text</th>\n",
       "      <th>text_wo_rare</th>\n",
       "      <th>text_wo_numbers</th>\n",
       "      <th>text_wo_single_letters</th>\n",
       "    </tr>\n",
       "  </thead>\n",
       "  <tbody>\n",
       "    <tr>\n",
       "      <th>0</th>\n",
       "      <td>\"Ξεκίνησε το πρωί ενώπιον των δικαστών του Μικ...</td>\n",
       "      <td>ξεκινησε πρωι ενωπιον δικαστων μικτου ορκωτου ...</td>\n",
       "      <td>ξεκινησε πρωι ενωπιον δικαστων μικτου ορκωτου ...</td>\n",
       "      <td>ξεκινησε πρωι ενωπιον δικαστων μικτου ορκωτου ...</td>\n",
       "    </tr>\n",
       "    <tr>\n",
       "      <th>1</th>\n",
       "      <td>\"Στο άλλο άκρο έχουν περάσει πλέον οι διαδηλώσ...</td>\n",
       "      <td>αλλο ακρο εχουν περασει πλεον διαδηλωσεις ηπα ...</td>\n",
       "      <td>αλλο ακρο εχουν περασει πλεον διαδηλωσεις ηπα ...</td>\n",
       "      <td>αλλο ακρο εχουν περασει πλεον διαδηλωσεις ηπα ...</td>\n",
       "    </tr>\n",
       "    <tr>\n",
       "      <th>2</th>\n",
       "      <td>\"Δεν λέει κουβέντα ο Γερμανός καταδικασμένος π...</td>\n",
       "      <td>λεει κουβεντα γερμανος καταδικασμενος παιδοφιλ...</td>\n",
       "      <td>λεει κουβεντα γερμανος καταδικασμενος παιδοφιλ...</td>\n",
       "      <td>λεει κουβεντα γερμανος καταδικασμενος παιδοφιλ...</td>\n",
       "    </tr>\n",
       "    <tr>\n",
       "      <th>3</th>\n",
       "      <td>\"2,5 χρόνια μετά από τον θάνατο της Ειρήνης Λα...</td>\n",
       "      <td>25 χρονια θανατο ειρηνης λαγουδη μητερας τριων...</td>\n",
       "      <td>χρονια θανατο ειρηνης λαγουδη μητερας τριων π...</td>\n",
       "      <td>χρονια θανατο ειρηνης λαγουδη μητερας τριων πα...</td>\n",
       "    </tr>\n",
       "    <tr>\n",
       "      <th>4</th>\n",
       "      <td>\"Μία εβδομάδα μετά την αρχική του εκτίμηση ότι...</td>\n",
       "      <td>εβδομαδα αρχικη εκτιμηση μαντλιν μακκαν μαλλον...</td>\n",
       "      <td>εβδομαδα αρχικη εκτιμηση μαντλιν μακκαν μαλλον...</td>\n",
       "      <td>εβδομαδα αρχικη εκτιμηση μαντλιν μακκαν μαλλον...</td>\n",
       "    </tr>\n",
       "  </tbody>\n",
       "</table>\n",
       "</div>"
      ],
      "text/plain": [
       "                                                text  \\\n",
       "0  \"Ξεκίνησε το πρωί ενώπιον των δικαστών του Μικ...   \n",
       "1  \"Στο άλλο άκρο έχουν περάσει πλέον οι διαδηλώσ...   \n",
       "2  \"Δεν λέει κουβέντα ο Γερμανός καταδικασμένος π...   \n",
       "3  \"2,5 χρόνια μετά από τον θάνατο της Ειρήνης Λα...   \n",
       "4  \"Μία εβδομάδα μετά την αρχική του εκτίμηση ότι...   \n",
       "\n",
       "                                        text_wo_rare  \\\n",
       "0  ξεκινησε πρωι ενωπιον δικαστων μικτου ορκωτου ...   \n",
       "1  αλλο ακρο εχουν περασει πλεον διαδηλωσεις ηπα ...   \n",
       "2  λεει κουβεντα γερμανος καταδικασμενος παιδοφιλ...   \n",
       "3  25 χρονια θανατο ειρηνης λαγουδη μητερας τριων...   \n",
       "4  εβδομαδα αρχικη εκτιμηση μαντλιν μακκαν μαλλον...   \n",
       "\n",
       "                                     text_wo_numbers  \\\n",
       "0  ξεκινησε πρωι ενωπιον δικαστων μικτου ορκωτου ...   \n",
       "1  αλλο ακρο εχουν περασει πλεον διαδηλωσεις ηπα ...   \n",
       "2  λεει κουβεντα γερμανος καταδικασμενος παιδοφιλ...   \n",
       "3   χρονια θανατο ειρηνης λαγουδη μητερας τριων π...   \n",
       "4  εβδομαδα αρχικη εκτιμηση μαντλιν μακκαν μαλλον...   \n",
       "\n",
       "                              text_wo_single_letters  \n",
       "0  ξεκινησε πρωι ενωπιον δικαστων μικτου ορκωτου ...  \n",
       "1  αλλο ακρο εχουν περασει πλεον διαδηλωσεις ηπα ...  \n",
       "2  λεει κουβεντα γερμανος καταδικασμενος παιδοφιλ...  \n",
       "3  χρονια θανατο ειρηνης λαγουδη μητερας τριων πα...  \n",
       "4  εβδομαδα αρχικη εκτιμηση μαντλιν μακκαν μαλλον...  "
      ]
     },
     "execution_count": 13,
     "metadata": {},
     "output_type": "execute_result"
    }
   ],
   "source": [
    "def drop_single_letter_words(text):\n",
    "    return ' '.join([w for w in text.split() if len(w) > 1])\n",
    "\n",
    "\n",
    "df[\"text_wo_single_letters\"] = df[\"text_wo_numbers\"].apply(\n",
    "    lambda text: drop_single_letter_words(text))\n",
    "df.head()\n"
   ]
  },
  {
   "cell_type": "markdown",
   "metadata": {},
   "source": [
    "## Remove s in the end of every word ('ς'):"
   ]
  },
  {
   "cell_type": "code",
   "execution_count": 14,
   "metadata": {},
   "outputs": [
    {
     "data": {
      "text/html": [
       "<div>\n",
       "<style scoped>\n",
       "    .dataframe tbody tr th:only-of-type {\n",
       "        vertical-align: middle;\n",
       "    }\n",
       "\n",
       "    .dataframe tbody tr th {\n",
       "        vertical-align: top;\n",
       "    }\n",
       "\n",
       "    .dataframe thead th {\n",
       "        text-align: right;\n",
       "    }\n",
       "</style>\n",
       "<table border=\"1\" class=\"dataframe\">\n",
       "  <thead>\n",
       "    <tr style=\"text-align: right;\">\n",
       "      <th></th>\n",
       "      <th>text</th>\n",
       "      <th>text_wo_rare</th>\n",
       "      <th>text_wo_numbers</th>\n",
       "      <th>text_wo_single_letters</th>\n",
       "      <th>text_wo_final_s</th>\n",
       "    </tr>\n",
       "  </thead>\n",
       "  <tbody>\n",
       "    <tr>\n",
       "      <th>0</th>\n",
       "      <td>\"Ξεκίνησε το πρωί ενώπιον των δικαστών του Μικ...</td>\n",
       "      <td>ξεκινησε πρωι ενωπιον δικαστων μικτου ορκωτου ...</td>\n",
       "      <td>ξεκινησε πρωι ενωπιον δικαστων μικτου ορκωτου ...</td>\n",
       "      <td>ξεκινησε πρωι ενωπιον δικαστων μικτου ορκωτου ...</td>\n",
       "      <td>ξεκινησε πρωι ενωπιον δικαστων μικτου ορκωτου ...</td>\n",
       "    </tr>\n",
       "    <tr>\n",
       "      <th>1</th>\n",
       "      <td>\"Στο άλλο άκρο έχουν περάσει πλέον οι διαδηλώσ...</td>\n",
       "      <td>αλλο ακρο εχουν περασει πλεον διαδηλωσεις ηπα ...</td>\n",
       "      <td>αλλο ακρο εχουν περασει πλεον διαδηλωσεις ηπα ...</td>\n",
       "      <td>αλλο ακρο εχουν περασει πλεον διαδηλωσεις ηπα ...</td>\n",
       "      <td>αλλο ακρο εχουν περασει πλεον διαδηλωσει ηπα δ...</td>\n",
       "    </tr>\n",
       "    <tr>\n",
       "      <th>2</th>\n",
       "      <td>\"Δεν λέει κουβέντα ο Γερμανός καταδικασμένος π...</td>\n",
       "      <td>λεει κουβεντα γερμανος καταδικασμενος παιδοφιλ...</td>\n",
       "      <td>λεει κουβεντα γερμανος καταδικασμενος παιδοφιλ...</td>\n",
       "      <td>λεει κουβεντα γερμανος καταδικασμενος παιδοφιλ...</td>\n",
       "      <td>λεει κουβεντα γερμανο καταδικασμενο παιδοφιλο ...</td>\n",
       "    </tr>\n",
       "    <tr>\n",
       "      <th>3</th>\n",
       "      <td>\"2,5 χρόνια μετά από τον θάνατο της Ειρήνης Λα...</td>\n",
       "      <td>25 χρονια θανατο ειρηνης λαγουδη μητερας τριων...</td>\n",
       "      <td>χρονια θανατο ειρηνης λαγουδη μητερας τριων π...</td>\n",
       "      <td>χρονια θανατο ειρηνης λαγουδη μητερας τριων πα...</td>\n",
       "      <td>χρονια θανατο ειρηνη λαγουδη μητερα τριων παιδ...</td>\n",
       "    </tr>\n",
       "    <tr>\n",
       "      <th>4</th>\n",
       "      <td>\"Μία εβδομάδα μετά την αρχική του εκτίμηση ότι...</td>\n",
       "      <td>εβδομαδα αρχικη εκτιμηση μαντλιν μακκαν μαλλον...</td>\n",
       "      <td>εβδομαδα αρχικη εκτιμηση μαντλιν μακκαν μαλλον...</td>\n",
       "      <td>εβδομαδα αρχικη εκτιμηση μαντλιν μακκαν μαλλον...</td>\n",
       "      <td>εβδομαδα αρχικη εκτιμηση μαντλιν μακκαν μαλλον...</td>\n",
       "    </tr>\n",
       "  </tbody>\n",
       "</table>\n",
       "</div>"
      ],
      "text/plain": [
       "                                                text  \\\n",
       "0  \"Ξεκίνησε το πρωί ενώπιον των δικαστών του Μικ...   \n",
       "1  \"Στο άλλο άκρο έχουν περάσει πλέον οι διαδηλώσ...   \n",
       "2  \"Δεν λέει κουβέντα ο Γερμανός καταδικασμένος π...   \n",
       "3  \"2,5 χρόνια μετά από τον θάνατο της Ειρήνης Λα...   \n",
       "4  \"Μία εβδομάδα μετά την αρχική του εκτίμηση ότι...   \n",
       "\n",
       "                                        text_wo_rare  \\\n",
       "0  ξεκινησε πρωι ενωπιον δικαστων μικτου ορκωτου ...   \n",
       "1  αλλο ακρο εχουν περασει πλεον διαδηλωσεις ηπα ...   \n",
       "2  λεει κουβεντα γερμανος καταδικασμενος παιδοφιλ...   \n",
       "3  25 χρονια θανατο ειρηνης λαγουδη μητερας τριων...   \n",
       "4  εβδομαδα αρχικη εκτιμηση μαντλιν μακκαν μαλλον...   \n",
       "\n",
       "                                     text_wo_numbers  \\\n",
       "0  ξεκινησε πρωι ενωπιον δικαστων μικτου ορκωτου ...   \n",
       "1  αλλο ακρο εχουν περασει πλεον διαδηλωσεις ηπα ...   \n",
       "2  λεει κουβεντα γερμανος καταδικασμενος παιδοφιλ...   \n",
       "3   χρονια θανατο ειρηνης λαγουδη μητερας τριων π...   \n",
       "4  εβδομαδα αρχικη εκτιμηση μαντλιν μακκαν μαλλον...   \n",
       "\n",
       "                              text_wo_single_letters  \\\n",
       "0  ξεκινησε πρωι ενωπιον δικαστων μικτου ορκωτου ...   \n",
       "1  αλλο ακρο εχουν περασει πλεον διαδηλωσεις ηπα ...   \n",
       "2  λεει κουβεντα γερμανος καταδικασμενος παιδοφιλ...   \n",
       "3  χρονια θανατο ειρηνης λαγουδη μητερας τριων πα...   \n",
       "4  εβδομαδα αρχικη εκτιμηση μαντλιν μακκαν μαλλον...   \n",
       "\n",
       "                                     text_wo_final_s  \n",
       "0  ξεκινησε πρωι ενωπιον δικαστων μικτου ορκωτου ...  \n",
       "1  αλλο ακρο εχουν περασει πλεον διαδηλωσει ηπα δ...  \n",
       "2  λεει κουβεντα γερμανο καταδικασμενο παιδοφιλο ...  \n",
       "3  χρονια θανατο ειρηνη λαγουδη μητερα τριων παιδ...  \n",
       "4  εβδομαδα αρχικη εκτιμηση μαντλιν μακκαν μαλλον...  "
      ]
     },
     "execution_count": 14,
     "metadata": {},
     "output_type": "execute_result"
    }
   ],
   "source": [
    "CHAR_TO_REMOVE = 'ς'\n",
    "\n",
    "def remove_final_s(text):\n",
    "    return re.sub('ς', '', text)\n",
    "\n",
    "df[\"text_wo_final_s\"] = df[\"text_wo_single_letters\"].apply(\n",
    "    lambda text: remove_final_s(text))\n",
    "df.head()"
   ]
  },
  {
   "cell_type": "markdown",
   "metadata": {},
   "source": [
    "## Add labels to the pre-processed df:\n"
   ]
  },
  {
   "cell_type": "code",
   "execution_count": 15,
   "metadata": {},
   "outputs": [
    {
     "data": {
      "text/html": [
       "<div>\n",
       "<style scoped>\n",
       "    .dataframe tbody tr th:only-of-type {\n",
       "        vertical-align: middle;\n",
       "    }\n",
       "\n",
       "    .dataframe tbody tr th {\n",
       "        vertical-align: top;\n",
       "    }\n",
       "\n",
       "    .dataframe thead th {\n",
       "        text-align: right;\n",
       "    }\n",
       "</style>\n",
       "<table border=\"1\" class=\"dataframe\">\n",
       "  <thead>\n",
       "    <tr style=\"text-align: right;\">\n",
       "      <th></th>\n",
       "      <th>text</th>\n",
       "      <th>label</th>\n",
       "    </tr>\n",
       "  </thead>\n",
       "  <tbody>\n",
       "    <tr>\n",
       "      <th>0</th>\n",
       "      <td>ξεκινησε πρωι ενωπιον δικαστων μικτου ορκωτου ...</td>\n",
       "      <td>Ανθρωποκτονία</td>\n",
       "    </tr>\n",
       "    <tr>\n",
       "      <th>1</th>\n",
       "      <td>αλλο ακρο εχουν περασει πλεον διαδηλωσει ηπα δ...</td>\n",
       "      <td>Ανθρωποκτονία</td>\n",
       "    </tr>\n",
       "    <tr>\n",
       "      <th>2</th>\n",
       "      <td>λεει κουβεντα γερμανο καταδικασμενο παιδοφιλο ...</td>\n",
       "      <td>Ανθρωποκτονία</td>\n",
       "    </tr>\n",
       "    <tr>\n",
       "      <th>3</th>\n",
       "      <td>χρονια θανατο ειρηνη λαγουδη μητερα τριων παιδ...</td>\n",
       "      <td>Ανθρωποκτονία</td>\n",
       "    </tr>\n",
       "    <tr>\n",
       "      <th>4</th>\n",
       "      <td>εβδομαδα αρχικη εκτιμηση μαντλιν μακκαν μαλλον...</td>\n",
       "      <td>Ανθρωποκτονία</td>\n",
       "    </tr>\n",
       "  </tbody>\n",
       "</table>\n",
       "</div>"
      ],
      "text/plain": [
       "                                                text          label\n",
       "0  ξεκινησε πρωι ενωπιον δικαστων μικτου ορκωτου ...  Ανθρωποκτονία\n",
       "1  αλλο ακρο εχουν περασει πλεον διαδηλωσει ηπα δ...  Ανθρωποκτονία\n",
       "2  λεει κουβεντα γερμανο καταδικασμενο παιδοφιλο ...  Ανθρωποκτονία\n",
       "3  χρονια θανατο ειρηνη λαγουδη μητερα τριων παιδ...  Ανθρωποκτονία\n",
       "4  εβδομαδα αρχικη εκτιμηση μαντλιν μακκαν μαλλον...  Ανθρωποκτονία"
      ]
     },
     "execution_count": 15,
     "metadata": {},
     "output_type": "execute_result"
    }
   ],
   "source": [
    "# Drop the columns which are no longer needed , \"text_lemmatized\"\n",
    "df.drop([\"text\", \"text_wo_rare\", \"text_wo_single_letters\",\n",
    "        \"text_wo_numbers\"], axis=1, inplace=True)\n",
    "\n",
    "# Set up data set with preprocessed text & classes:\n",
    "df['label'] = df_full['class']\n",
    "df.columns = ['text', 'label']\n",
    "df.head()\n"
   ]
  },
  {
   "cell_type": "markdown",
   "metadata": {},
   "source": [
    "## Classification Analysis:\n"
   ]
  },
  {
   "cell_type": "code",
   "execution_count": 16,
   "metadata": {},
   "outputs": [
    {
     "data": {
      "image/png": "[encoded data removed]",
      "text/plain": [
       "<Figure size 432x288 with 1 Axes>"
      ]
     },
     "metadata": {},
     "output_type": "display_data"
    },
    {
     "data": {
      "text/plain": [
       "text     0\n",
       "label    0\n",
       "dtype: int64"
      ]
     },
     "execution_count": 16,
     "metadata": {},
     "output_type": "execute_result"
    }
   ],
   "source": [
    "label_distribution = (df['label'].value_counts() * 100) / len(df)\n",
    "\n",
    "# Add value labels\n",
    "\n",
    "\n",
    "def add_labels(x, y):\n",
    "    for i in range(len(x)):\n",
    "        plt.text(i, y[i], \"%.2f\" % round(y[i], 2) + \"%\", ha='center')\n",
    "\n",
    "\n",
    "plt.bar(label_distribution.index, label_distribution)\n",
    "add_labels(label_distribution.index, label_distribution)\n",
    "plt.xlabel(\"Classes\")\n",
    "plt.ylabel(\"Percentage\")\n",
    "plt.show()\n",
    "\n",
    "# See missing values:\n",
    "df.isna().sum()\n"
   ]
  },
  {
   "cell_type": "markdown",
   "metadata": {},
   "source": [
    "## Split data set to train, validate and test:\n"
   ]
  },
  {
   "cell_type": "code",
   "execution_count": 17,
   "metadata": {},
   "outputs": [
    {
     "name": "stdout",
     "output_type": "stream",
     "text": [
      "No. of training examples: 310\n",
      "No. of testing examples: 104\n",
      "No. of validating examples: 103\n"
     ]
    }
   ],
   "source": [
    "# df_train, df_test = model_selection.train_test_split(df, test_size=0.2, random_state=25)\n",
    "\n",
    "# Split to train validate and test\n",
    "df_train, df_validate, df_test = np.split(df.sample(frac=1, random_state=42), [\n",
    "                                          int(.6*len(df)), int(.8*len(df))])\n",
    "\n",
    "print(f\"No. of training examples: {df_train.shape[0]}\")\n",
    "print(f\"No. of testing examples: {df_test.shape[0]}\")\n",
    "print(f\"No. of validating examples: {df_validate.shape[0]}\")\n",
    "\n",
    "# Get X_train, y_train, X_val, y_val, X_test, y_test\n",
    "\n",
    "X_train = df_train['text']\n",
    "y_train = df_train['label']\n",
    "\n",
    "X_val = df_validate['text']\n",
    "y_val = df_validate['label']\n",
    "\n",
    "X_test = df_test['text']\n",
    "y_test = df_test['label']\n"
   ]
  },
  {
   "cell_type": "markdown",
   "metadata": {},
   "source": [
    "## N-gram analysis:"
   ]
  },
  {
   "cell_type": "code",
   "execution_count": 18,
   "metadata": {},
   "outputs": [],
   "source": [
    "\n",
    "def generate_N_grams(text, ngram=1):\n",
    "    \"\"\"\"custom function to generate n-grams\"\"\"\n",
    "    words = [word for word in text.split(\n",
    "        \" \") if word not in set(STOPWORDS_GREEK)]\n",
    "    # print(\"Sentence after removing stopwords:\", words)\n",
    "    temp = zip(*[words[i:] for i in range(0, ngram)])\n",
    "    ans = [' '.join(ngram) for ngram in temp]\n",
    "    return ans\n",
    "\n",
    "\n",
    "feminicide_values = defaultdict(int)\n",
    "homicide_values = defaultdict(int)\n",
    "\n",
    "\n",
    "# Get the count of every bigram in both the columns of df_train where label=\"Γυναικοκτονία\"\n",
    "for text in df_train[df_train.label == \"Γυναικοκτονία\"].text:\n",
    "    for word in generate_N_grams(text,2):\n",
    "        feminicide_values[word] += 1\n",
    "\n",
    "# Get the count of every bigram in both the columns of df_train where label=\"Ανθρωποκτονία\"\n",
    "for text in df_train[df_train.label == \"Ανθρωποκτονία\"].text:\n",
    "    for word in generate_N_grams(text,2):\n",
    "        homicide_values[word] += 1\n"
   ]
  },
  {
   "cell_type": "code",
   "execution_count": 32,
   "metadata": {},
   "outputs": [
    {
     "data": {
      "text/html": [
       "<div>\n",
       "<style scoped>\n",
       "    .dataframe tbody tr th:only-of-type {\n",
       "        vertical-align: middle;\n",
       "    }\n",
       "\n",
       "    .dataframe tbody tr th {\n",
       "        vertical-align: top;\n",
       "    }\n",
       "\n",
       "    .dataframe thead th {\n",
       "        text-align: right;\n",
       "    }\n",
       "</style>\n",
       "<table border=\"1\" class=\"dataframe\">\n",
       "  <thead>\n",
       "    <tr style=\"text-align: right;\">\n",
       "      <th></th>\n",
       "      <th>0</th>\n",
       "      <th>1</th>\n",
       "    </tr>\n",
       "  </thead>\n",
       "  <tbody>\n",
       "    <tr>\n",
       "      <th>0</th>\n",
       "      <td>αποπειρα ανθρωποκτονια</td>\n",
       "      <td>35</td>\n",
       "    </tr>\n",
       "    <tr>\n",
       "      <th>1</th>\n",
       "      <td>ανθρωποκτονια προθεση</td>\n",
       "      <td>33</td>\n",
       "    </tr>\n",
       "    <tr>\n",
       "      <th>2</th>\n",
       "      <td>χρυση αυγη</td>\n",
       "      <td>31</td>\n",
       "    </tr>\n",
       "    <tr>\n",
       "      <th>3</th>\n",
       "      <td>εγκληματικη οργανωση</td>\n",
       "      <td>30</td>\n",
       "    </tr>\n",
       "    <tr>\n",
       "      <th>4</th>\n",
       "      <td>καθειρξη ετων</td>\n",
       "      <td>23</td>\n",
       "    </tr>\n",
       "  </tbody>\n",
       "</table>\n",
       "</div>"
      ],
      "text/plain": [
       "                        0   1\n",
       "0  αποπειρα ανθρωποκτονια  35\n",
       "1   ανθρωποκτονια προθεση  33\n",
       "2              χρυση αυγη  31\n",
       "3    εγκληματικη οργανωση  30\n",
       "4           καθειρξη ετων  23"
      ]
     },
     "execution_count": 32,
     "metadata": {},
     "output_type": "execute_result"
    }
   ],
   "source": [
    "# focus on more frequently occuring words for every label=>\n",
    "# sort in Descending Order with respect to the 2nd column in each of feminicide_values and homicide_values\n",
    "df_feminicide = pd.DataFrame(\n",
    "    sorted(feminicide_values.items(), key=lambda x: x[1], reverse=True))\n",
    "df_homicide = pd.DataFrame(\n",
    "    sorted(homicide_values.items(), key=lambda x: x[1], reverse=True))\n",
    "\n",
    "# ten first values of first column\n",
    "fc1 = df_feminicide[0][:10]\n",
    "# ten first values of second column\n",
    "fc2 = df_feminicide[1][:10]\n",
    "\n",
    "# ten first values of first column\n",
    "hc1 = df_homicide[0][:10]\n",
    "# ten first values of second column\n",
    "hc2 = df_homicide[1][:10]\n"
   ]
  },
  {
   "cell_type": "code",
   "execution_count": 20,
   "metadata": {},
   "outputs": [
    {
     "data": {
      "image/png": "[encoded data removed]",
      "text/plain": [
       "<Figure size 1152x288 with 1 Axes>"
      ]
     },
     "metadata": {},
     "output_type": "display_data"
    }
   ],
   "source": [
    "plt.figure(1, figsize=(16, 4))\n",
    "plt.bar(fc1, fc2, color='purple',\n",
    "        width=0.4)\n",
    "plt.xlabel(\"Words in feminicide dataframe\")\n",
    "plt.xticks(rotation=90)\n",
    "plt.ylabel(\"Count\")\n",
    "plt.title(\"Top 10 words in feminicide dataframe-BIGRAM ANALYSIS\")\n",
    "# plt.savefig(\"feminicide-bigram.png\")\n",
    "plt.show()\n"
   ]
  },
  {
   "cell_type": "code",
   "execution_count": 21,
   "metadata": {},
   "outputs": [
    {
     "data": {
      "image/png": "[encoded data removed]",
      "text/plain": [
       "<Figure size 1152x288 with 1 Axes>"
      ]
     },
     "metadata": {},
     "output_type": "display_data"
    }
   ],
   "source": [
    "plt.figure(1, figsize=(16, 4))\n",
    "plt.bar(hc1, hc2, color='green',\n",
    "        width=0.4)\n",
    "plt.xlabel(\"Words in homicide dataframe\")\n",
    "plt.xticks(rotation=90)\n",
    "plt.ylabel(\"Count\")\n",
    "plt.title(\"Top 10 words in homicide dataframe-BIGRAM ANALYSIS\")\n",
    "# plt.savefig(\"homicide-bigram.png\")\n",
    "plt.show()\n"
   ]
  },
  {
   "cell_type": "markdown",
   "metadata": {},
   "source": [
    "## TfIdfVectorizer:\n"
   ]
  },
  {
   "cell_type": "code",
   "execution_count": 22,
   "metadata": {},
   "outputs": [
    {
     "data": {
      "text/plain": [
       "(310, 14539)"
      ]
     },
     "execution_count": 22,
     "metadata": {},
     "output_type": "execute_result"
    }
   ],
   "source": [
    "vectorizer = TfidfVectorizer()\n",
    "\n",
    "# remember to use the original X_train set\n",
    "X_train_tfidf = vectorizer.fit_transform(X_train)\n",
    "X_train_tfidf.shape\n"
   ]
  },
  {
   "cell_type": "markdown",
   "metadata": {},
   "source": [
    "<font color=green>This shows that training set is comprised of 310 documents, and 14539 features.</font>\n"
   ]
  },
  {
   "cell_type": "markdown",
   "metadata": {},
   "source": [
    "## Build some Pipelines:\n"
   ]
  },
  {
   "cell_type": "markdown",
   "metadata": {},
   "source": [
    "### Naive Bayes:\n"
   ]
  },
  {
   "cell_type": "code",
   "execution_count": 23,
   "metadata": {},
   "outputs": [
    {
     "name": "stdout",
     "output_type": "stream",
     "text": [
      "               precision    recall  f1-score   support\n",
      "\n",
      "Ανθρωποκτονία       1.00      0.61      0.76        57\n",
      "Γυναικοκτονία       0.68      1.00      0.81        46\n",
      "\n",
      "     accuracy                           0.79       103\n",
      "    macro avg       0.84      0.81      0.78       103\n",
      " weighted avg       0.86      0.79      0.78       103\n",
      "\n"
     ]
    },
    {
     "data": {
      "text/plain": [
       "<AxesSubplot:>"
      ]
     },
     "execution_count": 23,
     "metadata": {},
     "output_type": "execute_result"
    },
    {
     "data": {
      "image/png": "[encoded data removed]",
      "text/plain": [
       "<Figure size 432x288 with 2 Axes>"
      ]
     },
     "metadata": {},
     "output_type": "display_data"
    }
   ],
   "source": [
    "text_clf_NB = Pipeline([\n",
    "    ('vect', CountVectorizer()),\n",
    "    ('tfidf', TfidfTransformer()),\n",
    "    ('clf', MultinomialNB()),\n",
    "])\n",
    "\n",
    "text_clf_NB.fit(X_train, y_train)\n",
    "\n",
    "predicted = text_clf_NB.predict(X_val)\n",
    "np.mean(predicted == y_val)\n",
    "\n",
    "print(metrics.classification_report(y_val, predicted))\n",
    "\n",
    "# Confusion Matrix:\n",
    "cfmtx_NB = pd.DataFrame(metrics.confusion_matrix(y_val, predicted), index=[\n",
    "    'Ανθρωποκτονία', 'Γυναικοκτονία'], columns=['Ανθρωποκτονία', 'Γυναικοκτονία'])\n",
    "\n",
    "cfmtx_NB\n",
    "\n",
    "sns.heatmap(cfmtx_NB, annot=True, fmt='d', cmap='YlGnBu')\n"
   ]
  },
  {
   "cell_type": "markdown",
   "metadata": {},
   "source": [
    "### Linear Support Vector Machines:\n"
   ]
  },
  {
   "cell_type": "code",
   "execution_count": 24,
   "metadata": {},
   "outputs": [
    {
     "name": "stdout",
     "output_type": "stream",
     "text": [
      "               precision    recall  f1-score   support\n",
      "\n",
      "Ανθρωποκτονία       0.93      0.93      0.93        57\n",
      "Γυναικοκτονία       0.91      0.91      0.91        46\n",
      "\n",
      "     accuracy                           0.92       103\n",
      "    macro avg       0.92      0.92      0.92       103\n",
      " weighted avg       0.92      0.92      0.92       103\n",
      "\n"
     ]
    },
    {
     "data": {
      "text/plain": [
       "<AxesSubplot:>"
      ]
     },
     "execution_count": 24,
     "metadata": {},
     "output_type": "execute_result"
    },
    {
     "data": {
      "image/png": "[encoded data removed]",
      "text/plain": [
       "<Figure size 432x288 with 2 Axes>"
      ]
     },
     "metadata": {},
     "output_type": "display_data"
    }
   ],
   "source": [
    "text_clf_SVM = Pipeline([\n",
    "    ('vect', CountVectorizer()),\n",
    "    ('tfidf', TfidfTransformer()),\n",
    "    ('clf', SGDClassifier(loss='hinge', penalty='l2',\n",
    "                          alpha=1e-3, random_state=42,\n",
    "                          max_iter=5, tol=None)),\n",
    "])\n",
    "\n",
    "text_clf_SVM.fit(X_train, y_train)\n",
    "\n",
    "predicted = text_clf_SVM.predict(X_val)\n",
    "np.mean(predicted == y_val)\n",
    "\n",
    "print(metrics.classification_report(y_val, predicted))\n",
    "\n",
    "# Confusion Matrix:\n",
    "cfmtx_SVM = pd.DataFrame(metrics.confusion_matrix(y_val, predicted), index=[\n",
    "    'Ανθρωποκτονία', 'Γυναικοκτονία'], columns=['Ανθρωποκτονία', 'Γυναικοκτονία'])\n",
    "\n",
    "cfmtx_SVM\n",
    "\n",
    "sns.heatmap(cfmtx_SVM, annot=True, fmt='d', cmap='YlGnBu')\n"
   ]
  }
 ],
 "metadata": {
  "kernelspec": {
   "display_name": "Python 3 (ipykernel)",
   "language": "python",
   "name": "python3"
  },
  "language_info": {
   "codemirror_mode": {
    "name": "ipython",
    "version": 3
   },
   "file_extension": ".py",
   "mimetype": "text/x-python",
   "name": "python",
   "nbconvert_exporter": "python",
   "pygments_lexer": "ipython3",
   "version": "3.9.9"
  }
 },
 "nbformat": 4,
 "nbformat_minor": 2
}
